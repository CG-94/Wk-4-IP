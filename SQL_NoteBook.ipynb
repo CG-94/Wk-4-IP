{
  "nbformat": 4,
  "nbformat_minor": 0,
  "metadata": {
    "colab": {
      "name": "SQL NoteBook",
      "provenance": [],
      "authorship_tag": "ABX9TyPzjjllYAcv0JyCgM2gpAEy",
      "include_colab_link": true
    },
    "kernelspec": {
      "name": "python3",
      "display_name": "Python 3"
    },
    "language_info": {
      "name": "python"
    }
  },
  "cells": [
    {
      "cell_type": "markdown",
      "metadata": {
        "id": "view-in-github",
        "colab_type": "text"
      },
      "source": [
        "<a href=\"https://colab.research.google.com/github/CG-94/Wk-4-IP/blob/main/SQL_NoteBook.ipynb\" target=\"_parent\"><img src=\"https://colab.research.google.com/assets/colab-badge.svg\" alt=\"Open In Colab\"/></a>"
      ]
    },
    {
      "cell_type": "markdown",
      "metadata": {
        "id": "6_tisBIKvai5"
      },
      "source": [
        "In this week's independent project, I will be working as a data scientist working for an electric car-sharing service company. We have been tasked to process stations data to understand electric car usage over time by solving for the following research question;\n",
        "\n",
        "Research Question\n",
        "\n",
        "*   Identify the most popular hour of the day for picking up a shared electric car (Bluecar) in the city of Paris over the month of April 2018."
      ]
    },
    {
      "cell_type": "markdown",
      "metadata": {
        "id": "IilrZHqx1n5E"
      },
      "source": [
        "# 1.0 Loading Dataset"
      ]
    },
    {
      "cell_type": "code",
      "metadata": {
        "colab": {
          "base_uri": "https://localhost:8080/",
          "height": 35
        },
        "id": "hBkwOawVv0t4",
        "outputId": "97aee71d-4b77-4de9-d3ff-782ff90b50fb"
      },
      "source": [
        "# We will first load the sql extension into our environment\n",
        "%load_ext sql\n",
        "\n",
        "# Then connect to our in memory sqlite database\n",
        "# NB: This database will cease to exist as soon as the database connection is closed. \n",
        "%sql sqlite://"
      ],
      "execution_count": 4,
      "outputs": [
        {
          "output_type": "execute_result",
          "data": {
            "application/vnd.google.colaboratory.intrinsic+json": {
              "type": "string"
            },
            "text/plain": [
              "'Connected: @None'"
            ]
          },
          "metadata": {
            "tags": []
          },
          "execution_count": 4
        }
      ]
    },
    {
      "cell_type": "code",
      "metadata": {
        "id": "3hLHu4jJv-D6"
      },
      "source": [
        "\n",
        "# Importing Pandas\n",
        "import pandas as pd"
      ],
      "execution_count": 5,
      "outputs": []
    },
    {
      "cell_type": "code",
      "metadata": {
        "colab": {
          "base_uri": "https://localhost:8080/",
          "height": 471
        },
        "id": "DnY2DdsAwREd",
        "outputId": "54d0b4e8-b7e0-4b5b-97b2-58ab479f71fd"
      },
      "source": [
        "# Loading our dataset\n",
        "\n",
        "with open('Autolib_dataset (2).csv','r') as f:\n",
        "    Autolib = pd.read_csv(f, index_col=0, encoding='utf-8')\n",
        "%sql DROP TABLE if EXISTS Autolib;\n",
        "%sql PERSIST Autolib;\n",
        "\n",
        "%sql SELECT * FROM Autolib LIMIT 5"
      ],
      "execution_count": 6,
      "outputs": [
        {
          "output_type": "stream",
          "text": [
            " * sqlite://\n",
            "Done.\n",
            " * sqlite://\n",
            " * sqlite://\n",
            "Done.\n"
          ],
          "name": "stdout"
        },
        {
          "output_type": "execute_result",
          "data": {
            "text/html": [
              "<table>\n",
              "    <thead>\n",
              "        <tr>\n",
              "            <th>Address</th>\n",
              "            <th>Cars</th>\n",
              "            <th>Bluecar counter</th>\n",
              "            <th>Utilib counter</th>\n",
              "            <th>Utilib 1.4 counter</th>\n",
              "            <th>Charge Slots</th>\n",
              "            <th>Charging Status</th>\n",
              "            <th>City</th>\n",
              "            <th>Displayed comment</th>\n",
              "            <th>ID</th>\n",
              "            <th>Kind</th>\n",
              "            <th>Geo point</th>\n",
              "            <th>Postal code</th>\n",
              "            <th>Public name</th>\n",
              "            <th>Rental status</th>\n",
              "            <th>Scheduled at</th>\n",
              "            <th>Slots</th>\n",
              "            <th>Station type</th>\n",
              "            <th>Status</th>\n",
              "            <th>Subscription status</th>\n",
              "            <th>year</th>\n",
              "            <th>month</th>\n",
              "            <th>day</th>\n",
              "            <th>hour</th>\n",
              "            <th>minute</th>\n",
              "        </tr>\n",
              "    </thead>\n",
              "    <tbody>\n",
              "        <tr>\n",
              "            <td>2 Avenue de Suffren</td>\n",
              "            <td>0</td>\n",
              "            <td>0</td>\n",
              "            <td>0</td>\n",
              "            <td>0</td>\n",
              "            <td>0</td>\n",
              "            <td>nonexistent</td>\n",
              "            <td>Paris</td>\n",
              "            <td>None</td>\n",
              "            <td>paris-suffren-2</td>\n",
              "            <td>STATION</td>\n",
              "            <td>48.857, 2.2917</td>\n",
              "            <td>75015</td>\n",
              "            <td>Paris/Suffren/2</td>\n",
              "            <td>operational</td>\n",
              "            <td>None</td>\n",
              "            <td>2</td>\n",
              "            <td>station</td>\n",
              "            <td>ok</td>\n",
              "            <td>nonexistent</td>\n",
              "            <td>2018</td>\n",
              "            <td>4</td>\n",
              "            <td>8</td>\n",
              "            <td>11</td>\n",
              "            <td>43</td>\n",
              "        </tr>\n",
              "        <tr>\n",
              "            <td>145 Rue Raymond Losserand</td>\n",
              "            <td>6</td>\n",
              "            <td>6</td>\n",
              "            <td>0</td>\n",
              "            <td>0</td>\n",
              "            <td>0</td>\n",
              "            <td>operational</td>\n",
              "            <td>Paris</td>\n",
              "            <td>None</td>\n",
              "            <td>paris-raymondlosserand-145</td>\n",
              "            <td>STATION</td>\n",
              "            <td>48.83126, 2.313088</td>\n",
              "            <td>75014</td>\n",
              "            <td>Paris/Raymond Losserand/145</td>\n",
              "            <td>operational</td>\n",
              "            <td>None</td>\n",
              "            <td>0</td>\n",
              "            <td>station</td>\n",
              "            <td>ok</td>\n",
              "            <td>nonexistent</td>\n",
              "            <td>2018</td>\n",
              "            <td>4</td>\n",
              "            <td>6</td>\n",
              "            <td>7</td>\n",
              "            <td>24</td>\n",
              "        </tr>\n",
              "        <tr>\n",
              "            <td>2 Avenue John Fitzgerald Kennedy</td>\n",
              "            <td>3</td>\n",
              "            <td>3</td>\n",
              "            <td>0</td>\n",
              "            <td>2</td>\n",
              "            <td>0</td>\n",
              "            <td>operational</td>\n",
              "            <td>Le Bourget</td>\n",
              "            <td>None</td>\n",
              "            <td>lebourget-johnfitzgeraldkennedy-2</td>\n",
              "            <td>STATION</td>\n",
              "            <td>48.938103, 2.4286035</td>\n",
              "            <td>93350</td>\n",
              "            <td>Le Bourget/John Fitzgerald Kennedy/2</td>\n",
              "            <td>operational</td>\n",
              "            <td>None</td>\n",
              "            <td>1</td>\n",
              "            <td>station</td>\n",
              "            <td>ok</td>\n",
              "            <td>nonexistent</td>\n",
              "            <td>2018</td>\n",
              "            <td>4</td>\n",
              "            <td>3</td>\n",
              "            <td>20</td>\n",
              "            <td>14</td>\n",
              "        </tr>\n",
              "        <tr>\n",
              "            <td>51 Rue EugÃ¨ne OudinÃ©</td>\n",
              "            <td>3</td>\n",
              "            <td>3</td>\n",
              "            <td>1</td>\n",
              "            <td>0</td>\n",
              "            <td>1</td>\n",
              "            <td>operational</td>\n",
              "            <td>Paris</td>\n",
              "            <td>None</td>\n",
              "            <td>paris-eugeneoudine-51</td>\n",
              "            <td>STATION</td>\n",
              "            <td>48.8250327, 2.3725162</td>\n",
              "            <td>75013</td>\n",
              "            <td>Paris/EugÃ¨ne OudinÃ©/51</td>\n",
              "            <td>operational</td>\n",
              "            <td>None</td>\n",
              "            <td>2</td>\n",
              "            <td>station</td>\n",
              "            <td>ok</td>\n",
              "            <td>nonexistent</td>\n",
              "            <td>2018</td>\n",
              "            <td>4</td>\n",
              "            <td>4</td>\n",
              "            <td>4</td>\n",
              "            <td>37</td>\n",
              "        </tr>\n",
              "        <tr>\n",
              "            <td>6 avenue de la Porte de Champerret</td>\n",
              "            <td>3</td>\n",
              "            <td>3</td>\n",
              "            <td>0</td>\n",
              "            <td>0</td>\n",
              "            <td>0</td>\n",
              "            <td>nonexistent</td>\n",
              "            <td>Paris</td>\n",
              "            <td>None</td>\n",
              "            <td>paris-portedechamperret-6</td>\n",
              "            <td>PARKING</td>\n",
              "            <td>48.8862632, 2.2874511</td>\n",
              "            <td>75017</td>\n",
              "            <td>Paris/Porte de Champerret/6</td>\n",
              "            <td>operational</td>\n",
              "            <td>None</td>\n",
              "            <td>3</td>\n",
              "            <td>station</td>\n",
              "            <td>ok</td>\n",
              "            <td>nonexistent</td>\n",
              "            <td>2018</td>\n",
              "            <td>4</td>\n",
              "            <td>8</td>\n",
              "            <td>17</td>\n",
              "            <td>23</td>\n",
              "        </tr>\n",
              "    </tbody>\n",
              "</table>"
            ],
            "text/plain": [
              "[('2 Avenue de Suffren', 0, 0, 0, 0, 0, 'nonexistent', 'Paris', None, 'paris-suffren-2', 'STATION', '48.857, 2.2917', 75015, 'Paris/Suffren/2', 'operational', None, 2, 'station', 'ok', 'nonexistent', 2018, 4, 8, 11, 43),\n",
              " ('145 Rue Raymond Losserand', 6, 6, 0, 0, 0, 'operational', 'Paris', None, 'paris-raymondlosserand-145', 'STATION', '48.83126, 2.313088', 75014, 'Paris/Raymond Losserand/145', 'operational', None, 0, 'station', 'ok', 'nonexistent', 2018, 4, 6, 7, 24),\n",
              " ('2 Avenue John Fitzgerald Kennedy', 3, 3, 0, 2, 0, 'operational', 'Le Bourget', None, 'lebourget-johnfitzgeraldkennedy-2', 'STATION', '48.938103, 2.4286035', 93350, 'Le Bourget/John Fitzgerald Kennedy/2', 'operational', None, 1, 'station', 'ok', 'nonexistent', 2018, 4, 3, 20, 14),\n",
              " ('51 Rue EugÃ¨ne OudinÃ©', 3, 3, 1, 0, 1, 'operational', 'Paris', None, 'paris-eugeneoudine-51', 'STATION', '48.8250327, 2.3725162', 75013, 'Paris/EugÃ¨ne OudinÃ©/51', 'operational', None, 2, 'station', 'ok', 'nonexistent', 2018, 4, 4, 4, 37),\n",
              " ('6 avenue de la Porte de Champerret', 3, 3, 0, 0, 0, 'nonexistent', 'Paris', None, 'paris-portedechamperret-6', 'PARKING', '48.8862632, 2.2874511', 75017, 'Paris/Porte de Champerret/6', 'operational', None, 3, 'station', 'ok', 'nonexistent', 2018, 4, 8, 17, 23)]"
            ]
          },
          "metadata": {
            "tags": []
          },
          "execution_count": 6
        }
      ]
    },
    {
      "cell_type": "markdown",
      "metadata": {
        "id": "pKOXM9Gh8FQi"
      },
      "source": [
        "# 1.1 Filtering Data using Where"
      ]
    },
    {
      "cell_type": "code",
      "metadata": {
        "colab": {
          "base_uri": "https://localhost:8080/",
          "height": 179
        },
        "id": "T8e8PTnM2zIc",
        "outputId": "662f6708-425c-40e7-e905-791d2fe62c2a"
      },
      "source": [
        "# Now Selecting our data filtered out with our conditions;\n",
        "\n",
        "%%sql\n",
        "SELECT Cars, City, year, month, hour, \"Rental status\" FROM Autolib\n",
        "WHERE City = 'Paris' LIMIT 5;"
      ],
      "execution_count": 36,
      "outputs": [
        {
          "output_type": "stream",
          "text": [
            " * sqlite://\n",
            "Done.\n"
          ],
          "name": "stdout"
        },
        {
          "output_type": "execute_result",
          "data": {
            "text/html": [
              "<table>\n",
              "    <thead>\n",
              "        <tr>\n",
              "            <th>Cars</th>\n",
              "            <th>City</th>\n",
              "            <th>year</th>\n",
              "            <th>month</th>\n",
              "            <th>hour</th>\n",
              "            <th>Rental status</th>\n",
              "        </tr>\n",
              "    </thead>\n",
              "    <tbody>\n",
              "        <tr>\n",
              "            <td>0</td>\n",
              "            <td>Paris</td>\n",
              "            <td>2018</td>\n",
              "            <td>4</td>\n",
              "            <td>11</td>\n",
              "            <td>operational</td>\n",
              "        </tr>\n",
              "        <tr>\n",
              "            <td>6</td>\n",
              "            <td>Paris</td>\n",
              "            <td>2018</td>\n",
              "            <td>4</td>\n",
              "            <td>7</td>\n",
              "            <td>operational</td>\n",
              "        </tr>\n",
              "        <tr>\n",
              "            <td>3</td>\n",
              "            <td>Paris</td>\n",
              "            <td>2018</td>\n",
              "            <td>4</td>\n",
              "            <td>4</td>\n",
              "            <td>operational</td>\n",
              "        </tr>\n",
              "        <tr>\n",
              "            <td>3</td>\n",
              "            <td>Paris</td>\n",
              "            <td>2018</td>\n",
              "            <td>4</td>\n",
              "            <td>17</td>\n",
              "            <td>operational</td>\n",
              "        </tr>\n",
              "        <tr>\n",
              "            <td>0</td>\n",
              "            <td>Paris</td>\n",
              "            <td>2018</td>\n",
              "            <td>4</td>\n",
              "            <td>7</td>\n",
              "            <td>operational</td>\n",
              "        </tr>\n",
              "    </tbody>\n",
              "</table>"
            ],
            "text/plain": [
              "[(0, 'Paris', 2018, 4, 11, 'operational'),\n",
              " (6, 'Paris', 2018, 4, 7, 'operational'),\n",
              " (3, 'Paris', 2018, 4, 4, 'operational'),\n",
              " (3, 'Paris', 2018, 4, 17, 'operational'),\n",
              " (0, 'Paris', 2018, 4, 7, 'operational')]"
            ]
          },
          "metadata": {
            "tags": []
          },
          "execution_count": 36
        }
      ]
    },
    {
      "cell_type": "markdown",
      "metadata": {
        "id": "d_dSLJiN8UQC"
      },
      "source": [
        "# 1.3 Creating a new Table"
      ]
    },
    {
      "cell_type": "code",
      "metadata": {
        "colab": {
          "base_uri": "https://localhost:8080/"
        },
        "id": "TfsiCjJX8Zb8",
        "outputId": "cd2c8b3b-4e6c-44da-b6e3-1073c43c64eb"
      },
      "source": [
        "# Now creating a new table with our filtered data\n",
        "\n",
        "%%sql\n",
        "CREATE TABLE Paris_Bluecars AS\n",
        "SELECT Cars, City, year, month, hour, \"Rental status\" FROM Autolib\n",
        "WHERE City = 'Paris';"
      ],
      "execution_count": 37,
      "outputs": [
        {
          "output_type": "stream",
          "text": [
            " * sqlite://\n",
            "Done.\n"
          ],
          "name": "stdout"
        },
        {
          "output_type": "execute_result",
          "data": {
            "text/plain": [
              "[]"
            ]
          },
          "metadata": {
            "tags": []
          },
          "execution_count": 37
        }
      ]
    },
    {
      "cell_type": "code",
      "metadata": {
        "colab": {
          "base_uri": "https://localhost:8080/",
          "height": 179
        },
        "id": "sApjIMWV9HaV",
        "outputId": "781ba70b-42cc-4777-901d-fb6f066fd7aa"
      },
      "source": [
        "# Let's preview our new table\n",
        "\n",
        "%%sql\n",
        "SELECT * FROM Paris_Bluecars LIMIT 5;"
      ],
      "execution_count": 38,
      "outputs": [
        {
          "output_type": "stream",
          "text": [
            " * sqlite://\n",
            "Done.\n"
          ],
          "name": "stdout"
        },
        {
          "output_type": "execute_result",
          "data": {
            "text/html": [
              "<table>\n",
              "    <thead>\n",
              "        <tr>\n",
              "            <th>Cars</th>\n",
              "            <th>City</th>\n",
              "            <th>year</th>\n",
              "            <th>month</th>\n",
              "            <th>hour</th>\n",
              "            <th>Rental status</th>\n",
              "        </tr>\n",
              "    </thead>\n",
              "    <tbody>\n",
              "        <tr>\n",
              "            <td>0</td>\n",
              "            <td>Paris</td>\n",
              "            <td>2018</td>\n",
              "            <td>4</td>\n",
              "            <td>11</td>\n",
              "            <td>operational</td>\n",
              "        </tr>\n",
              "        <tr>\n",
              "            <td>6</td>\n",
              "            <td>Paris</td>\n",
              "            <td>2018</td>\n",
              "            <td>4</td>\n",
              "            <td>7</td>\n",
              "            <td>operational</td>\n",
              "        </tr>\n",
              "        <tr>\n",
              "            <td>3</td>\n",
              "            <td>Paris</td>\n",
              "            <td>2018</td>\n",
              "            <td>4</td>\n",
              "            <td>4</td>\n",
              "            <td>operational</td>\n",
              "        </tr>\n",
              "        <tr>\n",
              "            <td>3</td>\n",
              "            <td>Paris</td>\n",
              "            <td>2018</td>\n",
              "            <td>4</td>\n",
              "            <td>17</td>\n",
              "            <td>operational</td>\n",
              "        </tr>\n",
              "        <tr>\n",
              "            <td>0</td>\n",
              "            <td>Paris</td>\n",
              "            <td>2018</td>\n",
              "            <td>4</td>\n",
              "            <td>7</td>\n",
              "            <td>operational</td>\n",
              "        </tr>\n",
              "    </tbody>\n",
              "</table>"
            ],
            "text/plain": [
              "[(0, 'Paris', 2018, 4, 11, 'operational'),\n",
              " (6, 'Paris', 2018, 4, 7, 'operational'),\n",
              " (3, 'Paris', 2018, 4, 4, 'operational'),\n",
              " (3, 'Paris', 2018, 4, 17, 'operational'),\n",
              " (0, 'Paris', 2018, 4, 7, 'operational')]"
            ]
          },
          "metadata": {
            "tags": []
          },
          "execution_count": 38
        }
      ]
    },
    {
      "cell_type": "markdown",
      "metadata": {
        "id": "g3tuTzlz81jo"
      },
      "source": [
        "# 1.4 Frequency"
      ]
    },
    {
      "cell_type": "code",
      "metadata": {
        "colab": {
          "base_uri": "https://localhost:8080/",
          "height": 452
        },
        "id": "odsH1J008-5n",
        "outputId": "b04b3252-4fd4-4b8c-9af8-5e3ba9db86cb"
      },
      "source": [
        "# Now finding the most popular hour of renting cars among the operational stations;\n",
        "# From running this code, we can be able to get the most popular hour of the day i.e fefore 18:00 hrs\n",
        "\n",
        "%%sql\n",
        "SELECT hour, count(hour) AS Popular\n",
        "FROM Paris_Bluecars\n",
        "WHERE hour < 18\n",
        "GROUP BY hour\n",
        "ORDER BY Popular DESC;"
      ],
      "execution_count": 45,
      "outputs": [
        {
          "output_type": "stream",
          "text": [
            " * sqlite://\n",
            "Done.\n"
          ],
          "name": "stdout"
        },
        {
          "output_type": "execute_result",
          "data": {
            "text/html": [
              "<table>\n",
              "    <thead>\n",
              "        <tr>\n",
              "            <th>hour</th>\n",
              "            <th>Popular</th>\n",
              "        </tr>\n",
              "    </thead>\n",
              "    <tbody>\n",
              "        <tr>\n",
              "            <td>8</td>\n",
              "            <td>128</td>\n",
              "        </tr>\n",
              "        <tr>\n",
              "            <td>16</td>\n",
              "            <td>128</td>\n",
              "        </tr>\n",
              "        <tr>\n",
              "            <td>3</td>\n",
              "            <td>125</td>\n",
              "        </tr>\n",
              "        <tr>\n",
              "            <td>6</td>\n",
              "            <td>124</td>\n",
              "        </tr>\n",
              "        <tr>\n",
              "            <td>2</td>\n",
              "            <td>123</td>\n",
              "        </tr>\n",
              "        <tr>\n",
              "            <td>9</td>\n",
              "            <td>122</td>\n",
              "        </tr>\n",
              "        <tr>\n",
              "            <td>7</td>\n",
              "            <td>121</td>\n",
              "        </tr>\n",
              "        <tr>\n",
              "            <td>10</td>\n",
              "            <td>121</td>\n",
              "        </tr>\n",
              "        <tr>\n",
              "            <td>12</td>\n",
              "            <td>120</td>\n",
              "        </tr>\n",
              "        <tr>\n",
              "            <td>5</td>\n",
              "            <td>117</td>\n",
              "        </tr>\n",
              "        <tr>\n",
              "            <td>17</td>\n",
              "            <td>116</td>\n",
              "        </tr>\n",
              "        <tr>\n",
              "            <td>13</td>\n",
              "            <td>114</td>\n",
              "        </tr>\n",
              "        <tr>\n",
              "            <td>4</td>\n",
              "            <td>112</td>\n",
              "        </tr>\n",
              "        <tr>\n",
              "            <td>15</td>\n",
              "            <td>111</td>\n",
              "        </tr>\n",
              "        <tr>\n",
              "            <td>0</td>\n",
              "            <td>110</td>\n",
              "        </tr>\n",
              "        <tr>\n",
              "            <td>11</td>\n",
              "            <td>107</td>\n",
              "        </tr>\n",
              "        <tr>\n",
              "            <td>14</td>\n",
              "            <td>107</td>\n",
              "        </tr>\n",
              "        <tr>\n",
              "            <td>1</td>\n",
              "            <td>105</td>\n",
              "        </tr>\n",
              "    </tbody>\n",
              "</table>"
            ],
            "text/plain": [
              "[(8, 128),\n",
              " (16, 128),\n",
              " (3, 125),\n",
              " (6, 124),\n",
              " (2, 123),\n",
              " (9, 122),\n",
              " (7, 121),\n",
              " (10, 121),\n",
              " (12, 120),\n",
              " (5, 117),\n",
              " (17, 116),\n",
              " (13, 114),\n",
              " (4, 112),\n",
              " (15, 111),\n",
              " (0, 110),\n",
              " (11, 107),\n",
              " (14, 107),\n",
              " (1, 105)]"
            ]
          },
          "metadata": {
            "tags": []
          },
          "execution_count": 45
        }
      ]
    }
  ]
}